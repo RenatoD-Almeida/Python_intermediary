{
 "cells": [
  {
   "cell_type": "code",
   "execution_count": 46,
   "id": "c86331e3",
   "metadata": {},
   "outputs": [
    {
     "data": {
      "text/html": [
       "<div>\n",
       "<style scoped>\n",
       "    .dataframe tbody tr th:only-of-type {\n",
       "        vertical-align: middle;\n",
       "    }\n",
       "\n",
       "    .dataframe tbody tr th {\n",
       "        vertical-align: top;\n",
       "    }\n",
       "\n",
       "    .dataframe thead th {\n",
       "        text-align: right;\n",
       "    }\n",
       "</style>\n",
       "<table border=\"1\" class=\"dataframe\">\n",
       "  <thead>\n",
       "    <tr style=\"text-align: right;\">\n",
       "      <th></th>\n",
       "      <th>sigla_unidade_ensino</th>\n",
       "      <th>nome_unidade_ensino</th>\n",
       "      <th>dt_autorizacao</th>\n",
       "      <th>sigla_uf_unidade_ensino</th>\n",
       "      <th>nome_municipio_unidade_ensino</th>\n",
       "    </tr>\n",
       "  </thead>\n",
       "  <tbody>\n",
       "    <tr>\n",
       "      <th>0</th>\n",
       "      <td>NaN</td>\n",
       "      <td>ASSOCIAÇÃO TÉCNICO EDUCACIONAL EQUIPE</td>\n",
       "      <td>03/02/2015 17:31:40</td>\n",
       "      <td>RS</td>\n",
       "      <td>Sapucaia do Sul</td>\n",
       "    </tr>\n",
       "    <tr>\n",
       "      <th>1</th>\n",
       "      <td>NaN</td>\n",
       "      <td>CEFET DO MARANHAO</td>\n",
       "      <td>14/02/2014 19:44:56</td>\n",
       "      <td>MA</td>\n",
       "      <td>Tutóia</td>\n",
       "    </tr>\n",
       "    <tr>\n",
       "      <th>2</th>\n",
       "      <td>NaN</td>\n",
       "      <td>CEFET MG CAMPUS II</td>\n",
       "      <td>23/06/2010 14:27:47</td>\n",
       "      <td>MG</td>\n",
       "      <td>Belo Horizonte</td>\n",
       "    </tr>\n",
       "    <tr>\n",
       "      <th>3</th>\n",
       "      <td>NaN</td>\n",
       "      <td>CEFET-MG/campusV/Divinópolis</td>\n",
       "      <td>06/04/2009 08:07:15</td>\n",
       "      <td>MG</td>\n",
       "      <td>Divinópolis</td>\n",
       "    </tr>\n",
       "    <tr>\n",
       "      <th>4</th>\n",
       "      <td>NaN</td>\n",
       "      <td>CEFET - MG UNED contagem</td>\n",
       "      <td>21/03/2012 16:58:14</td>\n",
       "      <td>MG</td>\n",
       "      <td>Contagem</td>\n",
       "    </tr>\n",
       "  </tbody>\n",
       "</table>\n",
       "</div>"
      ],
      "text/plain": [
       "  sigla_unidade_ensino                     nome_unidade_ensino  ... sigla_uf_unidade_ensino nome_municipio_unidade_ensino\n",
       "0                  NaN  ASSOCIAÇÃO TÉCNICO EDUCACIONAL EQUIPE   ...                      RS               Sapucaia do Sul\n",
       "1                  NaN                       CEFET DO MARANHAO  ...                      MA                        Tutóia\n",
       "2                  NaN                      CEFET MG CAMPUS II  ...                      MG                Belo Horizonte\n",
       "3                  NaN            CEFET-MG/campusV/Divinópolis  ...                      MG                   Divinópolis\n",
       "4                  NaN                CEFET - MG UNED contagem  ...                      MG                      Contagem\n",
       "\n",
       "[5 rows x 5 columns]"
      ]
     },
     "execution_count": 46,
     "metadata": {},
     "output_type": "execute_result"
    }
   ],
   "source": [
    "'''Importar biblioteca pandas'''\n",
    "import pandas as pd\n",
    "'''Mathplot.lib biblioteca para gráficos'''\n",
    "%matplotlib inline\n",
    "\n",
    "# abre o arquivo .csv e armazena na variável df\n",
    "df = pd.read_csv('Unidades_da_Rede_Federal_de_EPCT.csv')\n",
    "\n",
    "# exibe 5 primeiras linhas do gráfico.\n",
    "df.head()"
   ]
  },
  {
   "cell_type": "code",
   "execution_count": 13,
   "id": "c65cc050",
   "metadata": {},
   "outputs": [
    {
     "data": {
      "text/plain": [
       "sigla_unidade_ensino             794\n",
       "nome_unidade_ensino              977\n",
       "dt_autorizacao                   977\n",
       "sigla_uf_unidade_ensino          977\n",
       "nome_municipio_unidade_ensino    977\n",
       "dtype: int64"
      ]
     },
     "execution_count": 13,
     "metadata": {},
     "output_type": "execute_result"
    }
   ],
   "source": [
    "#linhas totais: possível interar tratando como lista ['... ']\n",
    "df.count()"
   ]
  },
  {
   "cell_type": "code",
   "execution_count": 19,
   "id": "74c7d909",
   "metadata": {},
   "outputs": [
    {
     "data": {
      "text/plain": [
       "sigla_unidade_ensino             object\n",
       "nome_unidade_ensino              object\n",
       "dt_autorizacao                   object\n",
       "sigla_uf_unidade_ensino          object\n",
       "nome_municipio_unidade_ensino    object\n",
       "dtype: object"
      ]
     },
     "execution_count": 19,
     "metadata": {},
     "output_type": "execute_result"
    }
   ],
   "source": [
    "# mostra os tipos de cada coluna: dtypes\n",
    "df.dtypes"
   ]
  },
  {
   "cell_type": "code",
   "execution_count": 24,
   "id": "99aed475",
   "metadata": {},
   "outputs": [
    {
     "data": {
      "text/html": [
       "<div>\n",
       "<style scoped>\n",
       "    .dataframe tbody tr th:only-of-type {\n",
       "        vertical-align: middle;\n",
       "    }\n",
       "\n",
       "    .dataframe tbody tr th {\n",
       "        vertical-align: top;\n",
       "    }\n",
       "\n",
       "    .dataframe thead th {\n",
       "        text-align: right;\n",
       "    }\n",
       "</style>\n",
       "<table border=\"1\" class=\"dataframe\">\n",
       "  <thead>\n",
       "    <tr style=\"text-align: right;\">\n",
       "      <th></th>\n",
       "      <th>sigla_unidade_ensino</th>\n",
       "      <th>nome_unidade_ensino</th>\n",
       "      <th>dt_autorizacao</th>\n",
       "      <th>sigla_uf_unidade_ensino</th>\n",
       "      <th>nome_municipio_unidade_ensino</th>\n",
       "    </tr>\n",
       "  </thead>\n",
       "  <tbody>\n",
       "    <tr>\n",
       "      <th>count</th>\n",
       "      <td>794</td>\n",
       "      <td>977</td>\n",
       "      <td>977</td>\n",
       "      <td>977</td>\n",
       "      <td>977</td>\n",
       "    </tr>\n",
       "    <tr>\n",
       "      <th>unique</th>\n",
       "      <td>58</td>\n",
       "      <td>964</td>\n",
       "      <td>976</td>\n",
       "      <td>27</td>\n",
       "      <td>726</td>\n",
       "    </tr>\n",
       "    <tr>\n",
       "      <th>top</th>\n",
       "      <td>IFMG</td>\n",
       "      <td>CENTRO FEDERAL DE EDUCAÇÃO TÉCNOLOGICA DE MINA...</td>\n",
       "      <td>21/11/2008 09:17:36</td>\n",
       "      <td>MG</td>\n",
       "      <td>Rio de Janeiro</td>\n",
       "    </tr>\n",
       "    <tr>\n",
       "      <th>freq</th>\n",
       "      <td>85</td>\n",
       "      <td>3</td>\n",
       "      <td>2</td>\n",
       "      <td>205</td>\n",
       "      <td>25</td>\n",
       "    </tr>\n",
       "  </tbody>\n",
       "</table>\n",
       "</div>"
      ],
      "text/plain": [
       "       sigla_unidade_ensino  ... nome_municipio_unidade_ensino\n",
       "count                   794  ...                           977\n",
       "unique                   58  ...                           726\n",
       "top                    IFMG  ...                Rio de Janeiro\n",
       "freq                     85  ...                            25\n",
       "\n",
       "[4 rows x 5 columns]"
      ]
     },
     "execution_count": 24,
     "metadata": {},
     "output_type": "execute_result"
    }
   ],
   "source": [
    "# descreve a quantidade, campos únicos, os que mais apareceram e a frequencia dos que mais apareceram\n",
    "df.describe()"
   ]
  },
  {
   "cell_type": "code",
   "execution_count": 33,
   "id": "1714e9fe",
   "metadata": {},
   "outputs": [
    {
     "data": {
      "text/plain": [
       "MG    205\n",
       "RJ     70\n",
       "RS     66\n",
       "SP     61\n",
       "PR     60\n",
       "CE     47\n",
       "BA     44\n",
       "SC     42\n",
       "PI     32\n",
       "MA     32\n",
       "PE     31\n",
       "GO     30\n",
       "RN     29\n",
       "PB     28\n",
       "PA     26\n",
       "ES     23\n",
       "MT     23\n",
       "AM     22\n",
       "AL     21\n",
       "DF     20\n",
       "SE     12\n",
       "MS     11\n",
       "TO     11\n",
       "RO     10\n",
       "RR      7\n",
       "AC      7\n",
       "AP      7\n",
       "Name: sigla_uf_unidade_ensino, dtype: int64"
      ]
     },
     "execution_count": 33,
     "metadata": {},
     "output_type": "execute_result"
    }
   ],
   "source": [
    "'''conta os valores e agrupa por coluna passada como parâmetro'''\n",
    "df['sigla_uf_unidade_ensino'].value_counts()"
   ]
  },
  {
   "cell_type": "code",
   "execution_count": 62,
   "id": "b152f6b1",
   "metadata": {},
   "outputs": [
    {
     "data": {
      "text/plain": [
       "<AxesSubplot:>"
      ]
     },
     "execution_count": 62,
     "metadata": {},
     "output_type": "execute_result"
    },
    {
     "data": {
      "image/png": "[encoded data removed]",
      "text/plain": [
       "<Figure size 432x288 with 1 Axes>"
      ]
     },
     "metadata": {
      "needs_background": "light"
     },
     "output_type": "display_data"
    }
   ],
   "source": [
    "'''Plota gráficos conforme a coluna passada, no caso sigla_uf_unidade_ensino.value_counts() unifica e monta um gráfico com \n",
    "as informações'''\n",
    "\n",
    "df['sigla_uf_unidade_ensino'].value_counts().plot.bar()"
   ]
  },
  {
   "cell_type": "code",
   "execution_count": 54,
   "id": "4ed1f0b8",
   "metadata": {},
   "outputs": [
    {
     "data": {
      "text/plain": [
       "Rio de Janeiro    25\n",
       "Brasília          20\n",
       "Natal             12\n",
       "Manaus             8\n",
       "Uberaba            7\n",
       "                  ..\n",
       "Xanxerê            1\n",
       "Araraquara         1\n",
       "Araras             1\n",
       "Fernandópolis      1\n",
       "Tianguá            1\n",
       "Name: nome_municipio_unidade_ensino, Length: 726, dtype: int64"
      ]
     },
     "execution_count": 54,
     "metadata": {},
     "output_type": "execute_result"
    }
   ],
   "source": [
    "df['nome_municipio_unidade_ensino'].value_counts()"
   ]
  },
  {
   "cell_type": "code",
   "execution_count": 59,
   "id": "db31c1d9",
   "metadata": {},
   "outputs": [
    {
     "data": {
      "text/plain": [
       "<AxesSubplot:>"
      ]
     },
     "execution_count": 59,
     "metadata": {},
     "output_type": "execute_result"
    },
    {
     "data": {
      "image/png": "[encoded data removed]",
      "text/plain": [
       "<Figure size 432x288 with 1 Axes>"
      ]
     },
     "metadata": {
      "needs_background": "light"
     },
     "output_type": "display_data"
    }
   ],
   "source": [
    "df['nome_municipio_unidade_ensino'].value_counts().head().plot.bar()"
   ]
  }
 ],
 "metadata": {
  "kernelspec": {
   "display_name": "Python 3 (ipykernel)",
   "language": "python",
   "name": "python3"
  },
  "language_info": {
   "codemirror_mode": {
    "name": "ipython",
    "version": 3
   },
   "file_extension": ".py",
   "mimetype": "text/x-python",
   "name": "python",
   "nbconvert_exporter": "python",
   "pygments_lexer": "ipython3",
   "version": "3.9.7"
  }
 },
 "nbformat": 4,
 "nbformat_minor": 5
}
